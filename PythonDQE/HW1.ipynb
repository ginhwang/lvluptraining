{
 "cells": [
  {
   "cell_type": "code",
   "execution_count": null,
   "id": "320dfafd",
   "metadata": {},
   "outputs": [],
   "source": [
    "# create list of 100 random numbers from 0 to 1000\n",
    "# sort list from min to max (without using sort())\n",
    "# calculate average for even and odd numbers\n",
    "# print both average result in console \n",
    "# Each line of code should be commented with description.\n",
    "\n",
    "# Commit script to git repository and provide link as home task result.\n"
   ]
  },
  {
   "cell_type": "code",
   "execution_count": 27,
   "id": "bfb7e754",
   "metadata": {},
   "outputs": [],
   "source": [
    "import random\n",
    "import pandas as pd"
   ]
  },
  {
   "cell_type": "code",
   "execution_count": 39,
   "id": "9d772298",
   "metadata": {},
   "outputs": [
    {
     "name": "stdout",
     "output_type": "stream",
     "text": [
      "       0\n",
      "1    761\n",
      "2    653\n",
      "3    949\n",
      "4    615\n",
      "5    671\n",
      "..   ...\n",
      "96   104\n",
      "97   703\n",
      "98   188\n",
      "99   767\n",
      "100  403\n",
      "\n",
      "[100 rows x 1 columns]\n"
     ]
    }
   ],
   "source": [
    "#create base for list and counter for the while loop\n",
    "res_list = []\n",
    "i=0\n",
    "#loop that runs random generator until counter hits the limit\n",
    "while i < 100:\n",
    "    num = random.randint(0,1000)\n",
    "    res_list.append(num)\n",
    "    i += 1\n",
    "#dataframe to see clear count\n",
    "df =  pd.DataFrame(res_list, index=range(1,101))\n",
    "print(df)"
   ]
  },
  {
   "cell_type": "code",
   "execution_count": 43,
   "id": "c53c2c43",
   "metadata": {},
   "outputs": [
    {
     "name": "stdout",
     "output_type": "stream",
     "text": [
      "       0\n",
      "1      9\n",
      "2     25\n",
      "3     41\n",
      "4     77\n",
      "5    104\n",
      "..   ...\n",
      "96   952\n",
      "97   964\n",
      "98   969\n",
      "99   982\n",
      "100  993\n",
      "\n",
      "[100 rows x 1 columns]\n"
     ]
    }
   ],
   "source": [
    "#for every item in list\n",
    "for bef in range(0, len(res_list)):\n",
    "#for every next item in this list\n",
    "    for aft in range(bef+1, len(res_list)):\n",
    "#check if the every next item is less than the bef, if yes, then switch their places\n",
    "                 if res_list[bef]>= res_list[aft]:\n",
    "                     res_list[bef], res_list[aft] = res_list[aft], res_list[bef]\n",
    "#print in human readable table\n",
    "print( pd.DataFrame(res_list, index=range(1,101)))"
   ]
  },
  {
   "cell_type": "code",
   "execution_count": 48,
   "id": "b5fbda40",
   "metadata": {},
   "outputs": [
    {
     "name": "stdout",
     "output_type": "stream",
     "text": [
      "Average of even: 91.00158932334111\n",
      "Average of odd: 95.5007946616706\n"
     ]
    }
   ],
   "source": [
    "count_even = 1\n",
    "count_odd = 1\n",
    "even=0\n",
    "odd=0\n",
    "for i in range(len(res_list)):\n",
    "    if i%2==0:\n",
    "        even += i/count_even\n",
    "        count_even += 1\n",
    "        \n",
    "    else: \n",
    "        odd += i/count_odd\n",
    "        count_odd += 1\n",
    "print('Average of even:', even)\n",
    "print('Average of odd:', odd)\n",
    "        "
   ]
  },
  {
   "cell_type": "code",
   "execution_count": null,
   "id": "71017ede",
   "metadata": {},
   "outputs": [],
   "source": []
  }
 ],
 "metadata": {
  "kernelspec": {
   "display_name": "Python 3 (ipykernel)",
   "language": "python",
   "name": "python3"
  },
  "language_info": {
   "codemirror_mode": {
    "name": "ipython",
    "version": 3
   },
   "file_extension": ".py",
   "mimetype": "text/x-python",
   "name": "python",
   "nbconvert_exporter": "python",
   "pygments_lexer": "ipython3",
   "version": "3.9.12"
  }
 },
 "nbformat": 4,
 "nbformat_minor": 5
}
